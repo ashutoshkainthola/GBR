{
  "nbformat": 4,
  "nbformat_minor": 0,
  "metadata": {
    "colab": {
      "provenance": [],
      "authorship_tag": "ABX9TyMuVQLAGffycuQoWdNe9fkx",
      "include_colab_link": true
    },
    "kernelspec": {
      "name": "python3",
      "display_name": "Python 3"
    },
    "language_info": {
      "name": "python"
    }
  },
  "cells": [
    {
      "cell_type": "markdown",
      "metadata": {
        "id": "view-in-github",
        "colab_type": "text"
      },
      "source": [
        "<a href=\"https://colab.research.google.com/github/ashutoshkainthola/GBR/blob/main/Scipy.ipynb\" target=\"_parent\"><img src=\"https://colab.research.google.com/assets/colab-badge.svg\" alt=\"Open In Colab\"/></a>"
      ]
    },
    {
      "cell_type": "code",
      "execution_count": null,
      "metadata": {
        "id": "FZEmX6YHIj2z",
        "colab": {
          "base_uri": "https://localhost:8080/",
          "height": 73
        },
        "outputId": "d63f5894-975c-47d5-9d1a-d2a6e81b7e6c"
      },
      "outputs": [
        {
          "output_type": "display_data",
          "data": {
            "text/plain": [
              "<IPython.core.display.HTML object>"
            ],
            "text/html": [
              "\n",
              "     <input type=\"file\" id=\"files-19d4d4ab-c828-4c79-97eb-2d42a627357b\" name=\"files[]\" multiple disabled\n",
              "        style=\"border:none\" />\n",
              "     <output id=\"result-19d4d4ab-c828-4c79-97eb-2d42a627357b\">\n",
              "      Upload widget is only available when the cell has been executed in the\n",
              "      current browser session. Please rerun this cell to enable.\n",
              "      </output>\n",
              "      <script>// Copyright 2017 Google LLC\n",
              "//\n",
              "// Licensed under the Apache License, Version 2.0 (the \"License\");\n",
              "// you may not use this file except in compliance with the License.\n",
              "// You may obtain a copy of the License at\n",
              "//\n",
              "//      http://www.apache.org/licenses/LICENSE-2.0\n",
              "//\n",
              "// Unless required by applicable law or agreed to in writing, software\n",
              "// distributed under the License is distributed on an \"AS IS\" BASIS,\n",
              "// WITHOUT WARRANTIES OR CONDITIONS OF ANY KIND, either express or implied.\n",
              "// See the License for the specific language governing permissions and\n",
              "// limitations under the License.\n",
              "\n",
              "/**\n",
              " * @fileoverview Helpers for google.colab Python module.\n",
              " */\n",
              "(function(scope) {\n",
              "function span(text, styleAttributes = {}) {\n",
              "  const element = document.createElement('span');\n",
              "  element.textContent = text;\n",
              "  for (const key of Object.keys(styleAttributes)) {\n",
              "    element.style[key] = styleAttributes[key];\n",
              "  }\n",
              "  return element;\n",
              "}\n",
              "\n",
              "// Max number of bytes which will be uploaded at a time.\n",
              "const MAX_PAYLOAD_SIZE = 100 * 1024;\n",
              "\n",
              "function _uploadFiles(inputId, outputId) {\n",
              "  const steps = uploadFilesStep(inputId, outputId);\n",
              "  const outputElement = document.getElementById(outputId);\n",
              "  // Cache steps on the outputElement to make it available for the next call\n",
              "  // to uploadFilesContinue from Python.\n",
              "  outputElement.steps = steps;\n",
              "\n",
              "  return _uploadFilesContinue(outputId);\n",
              "}\n",
              "\n",
              "// This is roughly an async generator (not supported in the browser yet),\n",
              "// where there are multiple asynchronous steps and the Python side is going\n",
              "// to poll for completion of each step.\n",
              "// This uses a Promise to block the python side on completion of each step,\n",
              "// then passes the result of the previous step as the input to the next step.\n",
              "function _uploadFilesContinue(outputId) {\n",
              "  const outputElement = document.getElementById(outputId);\n",
              "  const steps = outputElement.steps;\n",
              "\n",
              "  const next = steps.next(outputElement.lastPromiseValue);\n",
              "  return Promise.resolve(next.value.promise).then((value) => {\n",
              "    // Cache the last promise value to make it available to the next\n",
              "    // step of the generator.\n",
              "    outputElement.lastPromiseValue = value;\n",
              "    return next.value.response;\n",
              "  });\n",
              "}\n",
              "\n",
              "/**\n",
              " * Generator function which is called between each async step of the upload\n",
              " * process.\n",
              " * @param {string} inputId Element ID of the input file picker element.\n",
              " * @param {string} outputId Element ID of the output display.\n",
              " * @return {!Iterable<!Object>} Iterable of next steps.\n",
              " */\n",
              "function* uploadFilesStep(inputId, outputId) {\n",
              "  const inputElement = document.getElementById(inputId);\n",
              "  inputElement.disabled = false;\n",
              "\n",
              "  const outputElement = document.getElementById(outputId);\n",
              "  outputElement.innerHTML = '';\n",
              "\n",
              "  const pickedPromise = new Promise((resolve) => {\n",
              "    inputElement.addEventListener('change', (e) => {\n",
              "      resolve(e.target.files);\n",
              "    });\n",
              "  });\n",
              "\n",
              "  const cancel = document.createElement('button');\n",
              "  inputElement.parentElement.appendChild(cancel);\n",
              "  cancel.textContent = 'Cancel upload';\n",
              "  const cancelPromise = new Promise((resolve) => {\n",
              "    cancel.onclick = () => {\n",
              "      resolve(null);\n",
              "    };\n",
              "  });\n",
              "\n",
              "  // Wait for the user to pick the files.\n",
              "  const files = yield {\n",
              "    promise: Promise.race([pickedPromise, cancelPromise]),\n",
              "    response: {\n",
              "      action: 'starting',\n",
              "    }\n",
              "  };\n",
              "\n",
              "  cancel.remove();\n",
              "\n",
              "  // Disable the input element since further picks are not allowed.\n",
              "  inputElement.disabled = true;\n",
              "\n",
              "  if (!files) {\n",
              "    return {\n",
              "      response: {\n",
              "        action: 'complete',\n",
              "      }\n",
              "    };\n",
              "  }\n",
              "\n",
              "  for (const file of files) {\n",
              "    const li = document.createElement('li');\n",
              "    li.append(span(file.name, {fontWeight: 'bold'}));\n",
              "    li.append(span(\n",
              "        `(${file.type || 'n/a'}) - ${file.size} bytes, ` +\n",
              "        `last modified: ${\n",
              "            file.lastModifiedDate ? file.lastModifiedDate.toLocaleDateString() :\n",
              "                                    'n/a'} - `));\n",
              "    const percent = span('0% done');\n",
              "    li.appendChild(percent);\n",
              "\n",
              "    outputElement.appendChild(li);\n",
              "\n",
              "    const fileDataPromise = new Promise((resolve) => {\n",
              "      const reader = new FileReader();\n",
              "      reader.onload = (e) => {\n",
              "        resolve(e.target.result);\n",
              "      };\n",
              "      reader.readAsArrayBuffer(file);\n",
              "    });\n",
              "    // Wait for the data to be ready.\n",
              "    let fileData = yield {\n",
              "      promise: fileDataPromise,\n",
              "      response: {\n",
              "        action: 'continue',\n",
              "      }\n",
              "    };\n",
              "\n",
              "    // Use a chunked sending to avoid message size limits. See b/62115660.\n",
              "    let position = 0;\n",
              "    do {\n",
              "      const length = Math.min(fileData.byteLength - position, MAX_PAYLOAD_SIZE);\n",
              "      const chunk = new Uint8Array(fileData, position, length);\n",
              "      position += length;\n",
              "\n",
              "      const base64 = btoa(String.fromCharCode.apply(null, chunk));\n",
              "      yield {\n",
              "        response: {\n",
              "          action: 'append',\n",
              "          file: file.name,\n",
              "          data: base64,\n",
              "        },\n",
              "      };\n",
              "\n",
              "      let percentDone = fileData.byteLength === 0 ?\n",
              "          100 :\n",
              "          Math.round((position / fileData.byteLength) * 100);\n",
              "      percent.textContent = `${percentDone}% done`;\n",
              "\n",
              "    } while (position < fileData.byteLength);\n",
              "  }\n",
              "\n",
              "  // All done.\n",
              "  yield {\n",
              "    response: {\n",
              "      action: 'complete',\n",
              "    }\n",
              "  };\n",
              "}\n",
              "\n",
              "scope.google = scope.google || {};\n",
              "scope.google.colab = scope.google.colab || {};\n",
              "scope.google.colab._files = {\n",
              "  _uploadFiles,\n",
              "  _uploadFilesContinue,\n",
              "};\n",
              "})(self);\n",
              "</script> "
            ]
          },
          "metadata": {}
        },
        {
          "output_type": "stream",
          "name": "stdout",
          "text": [
            "Saving ppv.csv to ppv.csv\n"
          ]
        }
      ],
      "source": [
        "import numpy as np\n",
        "import pandas as pd\n",
        "from scipy import *\n",
        "from google.colab import files\n",
        "uploaded = files.upload()"
      ]
    },
    {
      "cell_type": "code",
      "source": [
        "\n",
        "import pandas as pd\n",
        "import io\n",
        "\n",
        "df = pd.read_csv(io.BytesIO(uploaded['ppv.csv']))\n",
        "print(df)\n",
        "\n",
        "df.columns\n",
        "\n",
        "X= df.drop(\"Output\", axis =1)\n",
        "y = df[\"Output\"]\n",
        "\n",
        "X.shape\n",
        "y.shape"
      ],
      "metadata": {
        "colab": {
          "base_uri": "https://localhost:8080/"
        },
        "id": "SYKObZXyfeNf",
        "outputId": "8221d4f5-d9e1-4c87-e5be-1e73a159a883"
      },
      "execution_count": null,
      "outputs": [
        {
          "output_type": "stream",
          "name": "stdout",
          "text": [
            "     Input1  Input2  Input4  Input5  Input6  Input7  Output\n",
            "0      5.63      30    1.14    0.80      32     400   1.546\n",
            "1      5.50      30    1.15    0.77      56     400   2.325\n",
            "2      1.17      28    1.15    0.48      15     400   2.325\n",
            "3      2.10      30    1.00    0.85      11     400   0.725\n",
            "4      2.10      30    1.00    0.90      11     400   0.725\n",
            "..      ...     ...     ...     ...     ...     ...     ...\n",
            "413    3.00      30    1.14    0.74       7     200   1.847\n",
            "414    7.40      33    1.15    1.35      20     200   2.254\n",
            "415    4.10      30    1.17    0.50      29     200   3.216\n",
            "416    5.00      28    1.20    0.54      40     200   4.336\n",
            "417    5.00      30    1.20    1.00      40     200   4.265\n",
            "\n",
            "[418 rows x 7 columns]\n"
          ]
        },
        {
          "output_type": "execute_result",
          "data": {
            "text/plain": [
              "(418,)"
            ]
          },
          "metadata": {},
          "execution_count": 5
        }
      ]
    },
    {
      "cell_type": "code",
      "source": [
        "import numpy as np\n",
        "from sklearn.ensemble import RandomForestRegressor\n",
        "from sklearn.metrics import mean_squared_error\n",
        "from scipy.optimize import minimize\n",
        "from sklearn.model_selection import train_test_split\n",
        "\n",
        "# Define the objective function to minimize (mean squared error)\n",
        "def objective_function(params, X_train, X_test, y_train, y_test):\n",
        "    n_estimators = int(params[0])\n",
        "    max_depth = int(params[1])\n",
        "    min_samples_split = int(params[2])\n",
        "\n",
        "    # Create a random forest regressor with the specified hyperparameters\n",
        "    regressor = RandomForestRegressor(n_estimators=n_estimators,\n",
        "                                      max_depth=max_depth,\n",
        "                                      min_samples_split=min_samples_split,\n",
        "                                      random_state=42)\n",
        "\n",
        "    # Train the regressor\n",
        "    regressor.fit(X_train, y_train)\n",
        "\n",
        "    # Make predictions on the test set\n",
        "    y_pred = regressor.predict(X_test)\n",
        "\n",
        "    # Calculate the mean squared error\n",
        "    mse = mean_squared_error(y_test, y_pred)\n",
        "\n",
        "    return mse\n",
        "\n",
        "\n"
      ],
      "metadata": {
        "id": "fGGkc--wIoM5"
      },
      "execution_count": null,
      "outputs": []
    },
    {
      "cell_type": "code",
      "source": [],
      "metadata": {
        "colab": {
          "base_uri": "https://localhost:8080/"
        },
        "id": "SnW0SHteKfHS",
        "outputId": "79491bb2-7c2d-46df-e8c9-52c2f747aaba"
      },
      "execution_count": null,
      "outputs": [
        {
          "output_type": "stream",
          "name": "stdout",
          "text": [
            "1.2246467991473532e-16\n"
          ]
        }
      ]
    },
    {
      "cell_type": "code",
      "source": [
        "# Define the bounds for each hyperparameter\n",
        "bounds = [(10, 100),  # n_estimators\n",
        "          (5, 30),    # max_depth\n",
        "          (2, 10)]    # min_samples_split\n",
        "\n",
        "# Set the number of particles and maximum number of iterations\n",
        "n_particles = 10\n",
        "max_iter = 50\n",
        "\n",
        "# Split the data into train and test sets\n",
        "X_train, X_test, y_train, y_test = train_test_split(X, y, test_size=0.2, random_state=42)\n",
        "\n",
        "# Initialize the swarm\n",
        "particles = np.random.uniform(low=np.array(bounds)[:, 0],\n",
        "                              high=np.array(bounds)[:, 1],\n",
        "                              size=(n_particles, len(bounds)))\n",
        "\n",
        "# Perform particle swarm optimization\n",
        "best_params = None\n",
        "best_mse = float('inf')\n",
        "\n",
        "for _ in range(max_iter):\n",
        "    for i in range(n_particles):\n",
        "        # Update the particle's velocity and position\n",
        "        velocity = np.random.random(size=len(bounds)) * (particles[i] - particles).mean(axis=0)\n",
        "        particles[i] += velocity\n",
        "\n",
        "        # Clip the particle's position to the defined bounds\n",
        "        particles[i] = np.clip(particles[i], np.array(bounds)[:, 0], np.array(bounds)[:, 1])\n",
        "\n",
        "        # Evaluate the objective function for the particle's position\n",
        "        mse = objective_function(particles[i], X_train, X_test, y_train, y_test)\n",
        "\n",
        "        # Update the best position and best MSE\n",
        "        if mse < best_mse:\n",
        "            best_params = particles[i]\n",
        "            best_mse = mse\n",
        "\n",
        "# Print the best hyperparameters and corresponding MSE\n",
        "print('Best Hyperparameters:')\n",
        "print('n_estimators:', int(best_params[0]))\n",
        "print('max_depth:', int(best_params[1]))\n",
        "print('min_samples_split:', int(best_params[2]))\n",
        "print('Best MSE:', best_mse)"
      ],
      "metadata": {
        "colab": {
          "base_uri": "https://localhost:8080/"
        },
        "id": "8JOcRjnkKqSt",
        "outputId": "63c7a74e-1aa5-4722-d1b8-3d3eed3cce10"
      },
      "execution_count": null,
      "outputs": [
        {
          "output_type": "stream",
          "name": "stdout",
          "text": [
            "Best Hyperparameters:\n",
            "n_estimators: 100\n",
            "max_depth: 30\n",
            "min_samples_split: 2\n",
            "Best MSE: 0.09451167876373946\n"
          ]
        }
      ]
    },
    {
      "cell_type": "code",
      "source": [
        "import numpy as np\n",
        "import matplotlib.pyplot as plt\n",
        "from sklearn.ensemble import RandomForestRegressor\n",
        "from sklearn.metrics import r2_score\n",
        "from scipy.optimize import minimize\n",
        "from sklearn.model_selection import train_test_split\n",
        "\n",
        "# Define the objective function to maximize (R2 score)\n",
        "def objective_function(params, X_train, X_test, y_train, y_test):\n",
        "    n_estimators = int(params[0])\n",
        "    max_depth = int(params[1])\n",
        "    min_samples_split = int(params[2])\n",
        "\n",
        "    # Create a random forest regressor with the specified hyperparameters\n",
        "    regressor = RandomForestRegressor(n_estimators=n_estimators,\n",
        "                                      max_depth=max_depth,\n",
        "                                      min_samples_split=min_samples_split,\n",
        "                                      random_state=42)\n",
        "\n",
        "    # Train the regressor\n",
        "    regressor.fit(X_train, y_train)\n",
        "\n",
        "    # Make predictions on the test set\n",
        "    y_pred = regressor.predict(X_test)\n",
        "\n",
        "    # Calculate the R2 score\n",
        "    r2 = r2_score(y_test, y_pred)\n",
        "\n",
        "    return -r2  # Minimize negative R2 score for maximization\n",
        "\n",
        "# Define the bounds for each hyperparameter\n",
        "bounds = [(10, 100),  # n_estimators\n",
        "          (5, 30),    # max_depth\n",
        "          (2, 10)]    # min_samples_split\n",
        "\n",
        "# Set the number of particles and maximum number of iterations\n",
        "n_particles = 40\n",
        "max_iter = 500\n",
        "\n",
        "# Split the data into train and test sets\n",
        "#X_train, X_test, y_train, y_test = train_test_split(X, y, test_size=0.2, random_state=42)\n",
        "\n",
        "# Initialize the swarm\n",
        "particles = np.random.uniform(low=np.array(bounds)[:, 0],\n",
        "                              high=np.array(bounds)[:, 1],\n",
        "                              size=(n_particles, len(bounds)))\n",
        "\n",
        "# Perform particle swarm optimization\n",
        "best_params = None\n",
        "best_r2 = float('-inf')\n",
        "iteration_r2 = []\n",
        "\n",
        "for _ in range(max_iter):\n",
        "    for i in range(n_particles):\n",
        "        # Update the particle's velocity and position\n",
        "        velocity = np.random.random(size=len(bounds)) * (particles[i] - particles).mean(axis=0)\n",
        "        particles[i] += velocity\n",
        "\n",
        "        # Clip the particle's position to the defined bounds\n",
        "        particles[i] = np.clip(particles[i], np.array(bounds)[:, 0], np.array(bounds)[:, 1])\n",
        "\n",
        "        # Evaluate the objective function for the particle's position\n",
        "        r2 = -objective_function(particles[i], X_train, X_test, y_train, y_test)\n",
        "\n",
        "        # Update the best position and best R2 score\n",
        "        if r2 > best_r2:\n",
        "            best_params = particles[i]\n",
        "            best_r2 = r2\n",
        "\n",
        "    # Record the best R2 score of the current iteration\n",
        "    iteration_r2.append(best_r2)\n",
        "\n",
        "# Print the best hyperparameters and corresponding R2 score\n",
        "print('Best Hyperparameters:')\n",
        "print('n_estimators:', int(best_params[0]))\n",
        "print('max_depth:', int(best_params[1]))\n",
        "print('min_samples_split:', int(best_params[2]))\n",
        "print('Best R2 Score:', best_r2)\n",
        "\n",
        "# Visualize the optimization performance\n",
        "plt.plot(range(max_iter), iteration_r2)\n",
        "plt.xlabel('Iteration')\n",
        "plt.ylabel('R2 Score')\n",
        "plt.title('PSO Optimization Performance')\n",
        "plt.show()\n"
      ],
      "metadata": {
        "colab": {
          "base_uri": "https://localhost:8080/"
        },
        "id": "TD4FLdFwLQgB",
        "outputId": "b8b0bfe2-069f-4dc4-9a07-7dc6ca8873cb"
      },
      "execution_count": null,
      "outputs": [
        {
          "output_type": "stream",
          "name": "stdout",
          "text": [
            "Best Hyperparameters:\n",
            "n_estimators: 100\n",
            "max_depth: 5\n",
            "min_samples_split: 2\n",
            "Best R2 Score: 0.9544455750528219\n"
          ]
        },
        {
          "output_type": "display_data",
          "data": {
            "text/plain": [
              "<Figure size 640x480 with 1 Axes>"
            ],
            "image/png": "[encoded data removed]"
          },
          "metadata": {}
        }
      ]
    },
    {
      "cell_type": "code",
      "source": [],
      "metadata": {
        "id": "R_nNhZvcLUMS"
      },
      "execution_count": null,
      "outputs": []
    }
  ]
}